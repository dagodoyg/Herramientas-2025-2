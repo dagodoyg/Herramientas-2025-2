{
 "cells": [
  {
   "cell_type": "code",
   "execution_count": null,
   "id": "c1e43c1c-38f6-4136-91d7-12488a92add7",
   "metadata": {},
   "outputs": [],
   "source": [
    "import numpy as np"
   ]
  },
  {
   "cell_type": "code",
   "execution_count": null,
   "id": "6b4bf529-a867-4ed7-a79d-fc83be155c22",
   "metadata": {},
   "outputs": [],
   "source": []
  },
  {
   "cell_type": "code",
   "execution_count": null,
   "id": "ba864ec4-c9d7-42f9-a9f7-c17813d58d1c",
   "metadata": {},
   "outputs": [
    {
     "name": "stdout",
     "output_type": "stream",
     "text": [
      "Montecarlo pi:  3.139824\n"
     ]
    }
   ],
   "source": [
    "N=1000000\n",
    "Nc=0\n",
    "\n",
    "for ii in range(N):\n",
    "    x = np.random.rand()\n",
    "    y = np.random.rand()\n",
    "    if x**2+y**2<=1:\n",
    "        Nc += 1\n",
    "print(\"Montecarlo pi: \", 4*Nc/N)"
   ]
  },
  {
   "cell_type": "code",
   "execution_count": null,
   "id": "2a98be99-7264-4e78-9f5d-570e99fec8b3",
   "metadata": {},
   "outputs": [],
   "source": []
  },
  {
   "cell_type": "code",
   "execution_count": null,
   "id": "f4bdb17b-a945-4219-b355-ec14f257c3f3",
   "metadata": {},
   "outputs": [],
   "source": []
  }
 ],
 "metadata": {
  "kernelspec": {
   "display_name": "Python 3 (ipykernel)",
   "language": "python",
   "name": "python3"
  },
  "language_info": {
   "codemirror_mode": {
    "name": "ipython",
    "version": 3
   },
   "file_extension": ".py",
   "mimetype": "text/x-python",
   "name": "python",
   "nbconvert_exporter": "python",
   "pygments_lexer": "ipython3",
   "version": "3.11.10"
  }
 },
 "nbformat": 4,
 "nbformat_minor": 5
}
